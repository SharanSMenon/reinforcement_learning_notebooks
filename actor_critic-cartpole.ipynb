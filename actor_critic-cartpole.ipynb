{
 "cells": [
  {
   "cell_type": "code",
   "execution_count": 1,
   "metadata": {},
   "outputs": [],
   "source": [
    "import gym\n",
    "import numpy as np\n",
    "from itertools import count\n",
    "from collections import namedtuple\n",
    "\n",
    "import torch\n",
    "import torch.nn as nn\n",
    "import torch.nn.functional as F\n",
    "import torch.optim as optim\n",
    "from torch.distributions import Categorical"
   ]
  },
  {
   "cell_type": "code",
   "execution_count": 2,
   "metadata": {},
   "outputs": [],
   "source": [
    "SavedAction = namedtuple('SavedAction', ['log_prob', 'value'])"
   ]
  },
  {
   "cell_type": "code",
   "execution_count": 14,
   "metadata": {},
   "outputs": [],
   "source": [
    "env = gym.make('CartPole-v0')"
   ]
  },
  {
   "cell_type": "code",
   "execution_count": 15,
   "metadata": {},
   "outputs": [
    {
     "data": {
      "text/plain": [
       "Box(-3.4028234663852886e+38, 3.4028234663852886e+38, (4,), float32)"
      ]
     },
     "execution_count": 15,
     "metadata": {},
     "output_type": "execute_result"
    }
   ],
   "source": [
    "env.observation_space"
   ]
  },
  {
   "cell_type": "code",
   "execution_count": 5,
   "metadata": {},
   "outputs": [],
   "source": [
    "class Policy(nn.Module):\n",
    "    def __init__(self):\n",
    "        super(Policy, self).__init__()\n",
    "        self.affine1 = nn.Linear(4, 128)\n",
    "        self.action_head = nn.Linear(128, 2)\n",
    "        self.value_head = nn.Linear(128, 1)\n",
    "        self.saved_actions = []\n",
    "        self.rewards = []\n",
    "    def forward(self, x):\n",
    "        x = F.relu(self.affine1(x))\n",
    "        action_prob = F.softmax(self.action_head(x), dim=-1)\n",
    "        state_values = self.value_head(x)\n",
    "        return action_prob, state_values"
   ]
  },
  {
   "cell_type": "code",
   "execution_count": 6,
   "metadata": {},
   "outputs": [],
   "source": [
    "def select_action(state):\n",
    "    state = torch.from_numpy(state).float()\n",
    "    probs, state_value = model(state)\n",
    "    m = Categorical(probs)\n",
    "    action = m.sample()\n",
    "    model.saved_actions.append(SavedAction(m.log_prob(action), state_value))\n",
    "    return action.item()"
   ]
  },
  {
   "cell_type": "code",
   "execution_count": 7,
   "metadata": {},
   "outputs": [],
   "source": [
    "def finish_episode():\n",
    "    \"\"\"\n",
    "    Training code. Calcultes actor and critic loss and performs backprop.\n",
    "    \"\"\"\n",
    "    R = 0\n",
    "    saved_actions = model.saved_actions\n",
    "    policy_losses = [] # list to save actor (policy) loss\n",
    "    value_losses = [] # list to save critic (value) loss\n",
    "    returns = [] # list to save the true values\n",
    "\n",
    "    for r in model.rewards[::-1]:\n",
    "        R = r + 0.99 * R\n",
    "        returns.insert(0, R)\n",
    "\n",
    "    returns = torch.tensor(returns)\n",
    "    returns = (returns - returns.mean()) / (returns.std() + eps)\n",
    "\n",
    "    for (log_prob, value), R in zip(saved_actions, returns):\n",
    "        advantage = R - value.item()\n",
    "\n",
    "        policy_losses.append(-log_prob * advantage)\n",
    "\n",
    "        value_losses.append(F.smooth_l1_loss(value, torch.tensor([R])))\n",
    "\n",
    "    optimizer.zero_grad()\n",
    "\n",
    "    loss = torch.stack(policy_losses).sum() + torch.stack(value_losses).sum()\n",
    "\n",
    "    loss.backward()\n",
    "    optimizer.step()\n",
    "\n",
    "    del model.rewards[:]\n",
    "    del model.saved_actions[:]"
   ]
  },
  {
   "cell_type": "code",
   "execution_count": 8,
   "metadata": {},
   "outputs": [],
   "source": [
    "model = Policy()\n",
    "optimizer = optim.Adam(model.parameters(), lr=3e-2)\n",
    "eps = np.finfo(np.float32).eps.item()"
   ]
  },
  {
   "cell_type": "code",
   "execution_count": 9,
   "metadata": {},
   "outputs": [],
   "source": [
    "def train():\n",
    "    running_reward = 10\n",
    "    for i_episode in range(500):\n",
    "        state = env.reset()\n",
    "        ep_reward = 0\n",
    "        for t in range(1, 10000):\n",
    "            action = select_action(state)\n",
    "            state, reward, done, _ = env.step(action)\n",
    "            model.rewards.append(reward)\n",
    "            ep_reward += reward\n",
    "            if done:\n",
    "                break\n",
    "        running_reward = 0.05 * ep_reward + (1 - 0.05) * running_reward\n",
    "        finish_episode()\n",
    "        if i_episode % 10 == 0:\n",
    "            print('Episode {}\\tLast reward: {:.2f}\\tAverage reward: {:.2f}'.format(\n",
    "                  i_episode, ep_reward, running_reward))\n",
    "        if running_reward > env.spec.reward_threshold:\n",
    "            print(\"Solved! Running reward is now {} and \"\n",
    "                  \"the last episode runs to {} time steps!\".format(running_reward, t))\n",
    "            break"
   ]
  },
  {
   "cell_type": "code",
   "execution_count": 10,
   "metadata": {},
   "outputs": [
    {
     "name": "stdout",
     "output_type": "stream",
     "text": [
      "Episode 0\tLast reward: 18.00\tAverage reward: 10.40\n",
      "Episode 10\tLast reward: 53.00\tAverage reward: 23.09\n",
      "Episode 20\tLast reward: 121.00\tAverage reward: 45.18\n",
      "Episode 30\tLast reward: 200.00\tAverage reward: 65.18\n",
      "Episode 40\tLast reward: 11.00\tAverage reward: 69.70\n",
      "Episode 50\tLast reward: 8.00\tAverage reward: 45.56\n",
      "Episode 60\tLast reward: 10.00\tAverage reward: 31.20\n",
      "Episode 70\tLast reward: 9.00\tAverage reward: 22.42\n",
      "Episode 80\tLast reward: 9.00\tAverage reward: 17.10\n",
      "Episode 90\tLast reward: 10.00\tAverage reward: 14.17\n",
      "Episode 100\tLast reward: 9.00\tAverage reward: 12.25\n",
      "Episode 110\tLast reward: 10.00\tAverage reward: 11.17\n",
      "Episode 120\tLast reward: 10.00\tAverage reward: 10.56\n",
      "Episode 130\tLast reward: 10.00\tAverage reward: 10.06\n",
      "Episode 140\tLast reward: 10.00\tAverage reward: 9.85\n",
      "Episode 150\tLast reward: 9.00\tAverage reward: 9.86\n",
      "Episode 160\tLast reward: 9.00\tAverage reward: 9.50\n",
      "Episode 170\tLast reward: 9.00\tAverage reward: 9.57\n",
      "Episode 180\tLast reward: 10.00\tAverage reward: 9.70\n",
      "Episode 190\tLast reward: 10.00\tAverage reward: 9.63\n",
      "Episode 200\tLast reward: 10.00\tAverage reward: 9.82\n",
      "Episode 210\tLast reward: 9.00\tAverage reward: 9.56\n",
      "Episode 220\tLast reward: 8.00\tAverage reward: 9.71\n",
      "Episode 230\tLast reward: 11.00\tAverage reward: 9.88\n",
      "Episode 240\tLast reward: 8.00\tAverage reward: 9.72\n",
      "Episode 250\tLast reward: 9.00\tAverage reward: 10.11\n",
      "Episode 260\tLast reward: 16.00\tAverage reward: 11.51\n",
      "Episode 270\tLast reward: 33.00\tAverage reward: 16.19\n",
      "Episode 280\tLast reward: 154.00\tAverage reward: 41.04\n",
      "Episode 290\tLast reward: 20.00\tAverage reward: 76.39\n",
      "Episode 300\tLast reward: 11.00\tAverage reward: 50.79\n",
      "Episode 310\tLast reward: 11.00\tAverage reward: 35.54\n",
      "Episode 320\tLast reward: 18.00\tAverage reward: 27.85\n",
      "Episode 330\tLast reward: 21.00\tAverage reward: 24.29\n",
      "Episode 340\tLast reward: 30.00\tAverage reward: 23.54\n",
      "Episode 350\tLast reward: 137.00\tAverage reward: 38.70\n",
      "Episode 360\tLast reward: 127.00\tAverage reward: 76.41\n",
      "Episode 370\tLast reward: 45.00\tAverage reward: 72.43\n",
      "Episode 380\tLast reward: 47.00\tAverage reward: 57.94\n",
      "Episode 390\tLast reward: 30.00\tAverage reward: 54.58\n",
      "Episode 400\tLast reward: 131.00\tAverage reward: 78.18\n",
      "Episode 410\tLast reward: 72.00\tAverage reward: 74.64\n",
      "Episode 420\tLast reward: 58.00\tAverage reward: 75.07\n",
      "Episode 430\tLast reward: 70.00\tAverage reward: 76.86\n",
      "Episode 440\tLast reward: 66.00\tAverage reward: 74.39\n",
      "Episode 450\tLast reward: 54.00\tAverage reward: 67.18\n",
      "Episode 460\tLast reward: 150.00\tAverage reward: 76.36\n",
      "Episode 470\tLast reward: 103.00\tAverage reward: 83.75\n",
      "Episode 480\tLast reward: 109.00\tAverage reward: 92.00\n",
      "Episode 490\tLast reward: 152.00\tAverage reward: 98.41\n",
      "CPU times: user 5.54 s, sys: 5.43 s, total: 11 s\n",
      "Wall time: 11 s\n"
     ]
    }
   ],
   "source": [
    "%%time\n",
    "train()"
   ]
  },
  {
   "cell_type": "code",
   "execution_count": 11,
   "metadata": {},
   "outputs": [],
   "source": [
    "from gym import wrappers"
   ]
  },
  {
   "cell_type": "code",
   "execution_count": 19,
   "metadata": {},
   "outputs": [],
   "source": [
    "done = False\n",
    "cnt = 0\n",
    "# env = wrappers.Monitor(env, 'actor-critic-cartpole', force=True)"
   ]
  },
  {
   "cell_type": "code",
   "execution_count": 20,
   "metadata": {},
   "outputs": [],
   "source": [
    "observation = env.reset()\n",
    "while not done:\n",
    "    cnt += 1\n",
    "    action = select_action(observation)\n",
    "    observation, reward, done, _ = env.step(action)\n",
    "    if done:\n",
    "        break"
   ]
  },
  {
   "cell_type": "code",
   "execution_count": 21,
   "metadata": {},
   "outputs": [
    {
     "name": "stdout",
     "output_type": "stream",
     "text": [
      "game lasted 133 moves\n"
     ]
    }
   ],
   "source": [
    "print('game lasted {} moves'.format(cnt))"
   ]
  },
  {
   "cell_type": "code",
   "execution_count": 22,
   "metadata": {},
   "outputs": [],
   "source": [
    "torch.save(model.state_dict(), \"actor_critic_cartpole.pth\")"
   ]
  },
  {
   "cell_type": "code",
   "execution_count": null,
   "metadata": {},
   "outputs": [],
   "source": []
  }
 ],
 "metadata": {
  "kernelspec": {
   "display_name": "Python 3",
   "language": "python",
   "name": "python3"
  },
  "language_info": {
   "codemirror_mode": {
    "name": "ipython",
    "version": 3
   },
   "file_extension": ".py",
   "mimetype": "text/x-python",
   "name": "python",
   "nbconvert_exporter": "python",
   "pygments_lexer": "ipython3",
   "version": "3.9.1"
  }
 },
 "nbformat": 4,
 "nbformat_minor": 4
}
